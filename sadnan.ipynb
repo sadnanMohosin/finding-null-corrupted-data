{
 "cells": [
  {
   "cell_type": "code",
   "execution_count": 1,
   "metadata": {
    "id": "vyg2qXQ7MxRD"
   },
   "outputs": [],
   "source": [
    "import pandas as pd\n",
    "import numpy as np"
   ]
  },
  {
   "cell_type": "markdown",
   "metadata": {
    "id": "jaW48J4hwPGy"
   },
   "source": [
    "The first step is to read the data and check for null values"
   ]
  },
  {
   "cell_type": "code",
   "execution_count": 2,
   "metadata": {
    "colab": {
     "base_uri": "https://localhost:8080/"
    },
    "id": "ai1LRlkeOTz0",
    "outputId": "1f0ad7a3-5485-4e8b-a062-7d81af39ef81"
   },
   "outputs": [
    {
     "name": "stdout",
     "output_type": "stream",
     "text": [
      "<class 'pandas.core.frame.DataFrame'>\n",
      "RangeIndex: 3058 entries, 0 to 3057\n",
      "Data columns (total 5 columns):\n",
      " #   Column       Non-Null Count  Dtype \n",
      "---  ------       --------------  ----- \n",
      " 0   Product Id   3058 non-null   int64 \n",
      " 1   Weight (kg)  3054 non-null   object\n",
      " 2   Length (m)   3053 non-null   object\n",
      " 3   Width (m)    3056 non-null   object\n",
      " 4   Height (m)   3054 non-null   object\n",
      "dtypes: int64(1), object(4)\n",
      "memory usage: 119.6+ KB\n"
     ]
    }
   ],
   "source": [
    "data = pd.read_csv('Products.csv')\n",
    "data.info()"
   ]
  },
  {
   "cell_type": "markdown",
   "metadata": {
    "id": "yX6pqexAwbYA"
   },
   "source": [
    "AS we can see there are some null values in the data. These null values can be replaced by either using the forward fill of backward fill methods. Before we choose a method lets check the first and last few rows of the dataframe"
   ]
  },
  {
   "cell_type": "code",
   "execution_count": 3,
   "metadata": {
    "colab": {
     "base_uri": "https://localhost:8080/",
     "height": 195
    },
    "id": "uzjSyThckQ1r",
    "outputId": "be9aa310-c72b-40d3-d5a8-cdfea211495b"
   },
   "outputs": [
    {
     "data": {
      "text/html": [
       "<div>\n",
       "<style scoped>\n",
       "    .dataframe tbody tr th:only-of-type {\n",
       "        vertical-align: middle;\n",
       "    }\n",
       "\n",
       "    .dataframe tbody tr th {\n",
       "        vertical-align: top;\n",
       "    }\n",
       "\n",
       "    .dataframe thead th {\n",
       "        text-align: right;\n",
       "    }\n",
       "</style>\n",
       "<table border=\"1\" class=\"dataframe\">\n",
       "  <thead>\n",
       "    <tr style=\"text-align: right;\">\n",
       "      <th></th>\n",
       "      <th>Product Id</th>\n",
       "      <th>Weight (kg)</th>\n",
       "      <th>Length (m)</th>\n",
       "      <th>Width (m)</th>\n",
       "      <th>Height (m)</th>\n",
       "    </tr>\n",
       "  </thead>\n",
       "  <tbody>\n",
       "    <tr>\n",
       "      <th>0</th>\n",
       "      <td>44331</td>\n",
       "      <td>1.025</td>\n",
       "      <td>0.2286</td>\n",
       "      <td>0.1524</td>\n",
       "      <td>0.0508</td>\n",
       "    </tr>\n",
       "    <tr>\n",
       "      <th>1</th>\n",
       "      <td>44352</td>\n",
       "      <td>0.504</td>\n",
       "      <td>0.14</td>\n",
       "      <td>0.04</td>\n",
       "      <td>0.16</td>\n",
       "    </tr>\n",
       "    <tr>\n",
       "      <th>2</th>\n",
       "      <td>44373</td>\n",
       "      <td>0.488</td>\n",
       "      <td>0.105</td>\n",
       "      <td>0.105</td>\n",
       "      <td>0.075</td>\n",
       "    </tr>\n",
       "    <tr>\n",
       "      <th>3</th>\n",
       "      <td>44394</td>\n",
       "      <td>1.0028</td>\n",
       "      <td>0.11</td>\n",
       "      <td>0.11</td>\n",
       "      <td>0.15</td>\n",
       "    </tr>\n",
       "    <tr>\n",
       "      <th>4</th>\n",
       "      <td>44415</td>\n",
       "      <td>0.55</td>\n",
       "      <td>0.13</td>\n",
       "      <td>0.13</td>\n",
       "      <td>0.11</td>\n",
       "    </tr>\n",
       "  </tbody>\n",
       "</table>\n",
       "</div>"
      ],
      "text/plain": [
       "   Product Id Weight (kg) Length (m) Width (m) Height (m)\n",
       "0       44331       1.025     0.2286    0.1524     0.0508\n",
       "1       44352       0.504       0.14      0.04       0.16\n",
       "2       44373       0.488      0.105     0.105      0.075\n",
       "3       44394      1.0028       0.11      0.11       0.15\n",
       "4       44415        0.55       0.13      0.13       0.11"
      ]
     },
     "execution_count": 3,
     "metadata": {},
     "output_type": "execute_result"
    }
   ],
   "source": [
    "data.head()"
   ]
  },
  {
   "cell_type": "code",
   "execution_count": 4,
   "metadata": {
    "colab": {
     "base_uri": "https://localhost:8080/",
     "height": 195
    },
    "id": "WrsR5efqlvXq",
    "outputId": "78b7ff1d-2eb4-476c-c578-1211d57ffbea"
   },
   "outputs": [
    {
     "data": {
      "text/html": [
       "<div>\n",
       "<style scoped>\n",
       "    .dataframe tbody tr th:only-of-type {\n",
       "        vertical-align: middle;\n",
       "    }\n",
       "\n",
       "    .dataframe tbody tr th {\n",
       "        vertical-align: top;\n",
       "    }\n",
       "\n",
       "    .dataframe thead th {\n",
       "        text-align: right;\n",
       "    }\n",
       "</style>\n",
       "<table border=\"1\" class=\"dataframe\">\n",
       "  <thead>\n",
       "    <tr style=\"text-align: right;\">\n",
       "      <th></th>\n",
       "      <th>Product Id</th>\n",
       "      <th>Weight (kg)</th>\n",
       "      <th>Length (m)</th>\n",
       "      <th>Width (m)</th>\n",
       "      <th>Height (m)</th>\n",
       "    </tr>\n",
       "  </thead>\n",
       "  <tbody>\n",
       "    <tr>\n",
       "      <th>3053</th>\n",
       "      <td>129234</td>\n",
       "      <td>0.0061</td>\n",
       "      <td>0.13</td>\n",
       "      <td>0.05</td>\n",
       "      <td>0.03</td>\n",
       "    </tr>\n",
       "    <tr>\n",
       "      <th>3054</th>\n",
       "      <td>129255</td>\n",
       "      <td>0.0114</td>\n",
       "      <td>0.06</td>\n",
       "      <td>0.03</td>\n",
       "      <td>0.16</td>\n",
       "    </tr>\n",
       "    <tr>\n",
       "      <th>3055</th>\n",
       "      <td>129276</td>\n",
       "      <td>0.3</td>\n",
       "      <td>0.06</td>\n",
       "      <td>0.042</td>\n",
       "      <td>0.195</td>\n",
       "    </tr>\n",
       "    <tr>\n",
       "      <th>3056</th>\n",
       "      <td>129297</td>\n",
       "      <td>0</td>\n",
       "      <td>0</td>\n",
       "      <td>0</td>\n",
       "      <td>0</td>\n",
       "    </tr>\n",
       "    <tr>\n",
       "      <th>3057</th>\n",
       "      <td>129318</td>\n",
       "      <td>0.798</td>\n",
       "      <td>0.115</td>\n",
       "      <td>0.05</td>\n",
       "      <td>0.235</td>\n",
       "    </tr>\n",
       "  </tbody>\n",
       "</table>\n",
       "</div>"
      ],
      "text/plain": [
       "      Product Id Weight (kg) Length (m) Width (m) Height (m)\n",
       "3053      129234      0.0061       0.13      0.05       0.03\n",
       "3054      129255      0.0114       0.06      0.03       0.16\n",
       "3055      129276         0.3       0.06     0.042      0.195\n",
       "3056      129297           0          0         0          0\n",
       "3057      129318       0.798      0.115      0.05      0.235"
      ]
     },
     "execution_count": 4,
     "metadata": {},
     "output_type": "execute_result"
    }
   ],
   "source": [
    "data.tail()"
   ]
  },
  {
   "cell_type": "markdown",
   "metadata": {
    "id": "7kEnSHIvxClV"
   },
   "source": [
    "Since neither the first or last row contains any null values we are good to use any of the two fill methods. Here we use backwardfill to replace the null values."
   ]
  },
  {
   "cell_type": "code",
   "execution_count": 5,
   "metadata": {
    "id": "X0xSil9gl4qO"
   },
   "outputs": [],
   "source": [
    "data = data.fillna(method ='bfill')"
   ]
  },
  {
   "cell_type": "markdown",
   "metadata": {
    "id": "tkxdGBINxYFS"
   },
   "source": [
    "Now lets check the summary of the dataframe again. We can see there are no null values in the dataframe."
   ]
  },
  {
   "cell_type": "code",
   "execution_count": 6,
   "metadata": {
    "colab": {
     "base_uri": "https://localhost:8080/"
    },
    "id": "i9OKSlHUmAbx",
    "outputId": "efc9274a-24df-4ef3-ee84-20fc3d7f4520"
   },
   "outputs": [
    {
     "name": "stdout",
     "output_type": "stream",
     "text": [
      "<class 'pandas.core.frame.DataFrame'>\n",
      "RangeIndex: 3058 entries, 0 to 3057\n",
      "Data columns (total 5 columns):\n",
      " #   Column       Non-Null Count  Dtype \n",
      "---  ------       --------------  ----- \n",
      " 0   Product Id   3058 non-null   int64 \n",
      " 1   Weight (kg)  3058 non-null   object\n",
      " 2   Length (m)   3058 non-null   object\n",
      " 3   Width (m)    3058 non-null   object\n",
      " 4   Height (m)   3058 non-null   object\n",
      "dtypes: int64(1), object(4)\n",
      "memory usage: 119.6+ KB\n"
     ]
    }
   ],
   "source": [
    "data.info()"
   ]
  },
  {
   "cell_type": "markdown",
   "metadata": {
    "id": "RqvhzU6mxhdn"
   },
   "source": [
    "Now lets procced to check for wrong string values. For that we go through each column and find the unique values. From the unique values we can filter out any unwanted string inputs. "
   ]
  },
  {
   "cell_type": "code",
   "execution_count": 7,
   "metadata": {
    "colab": {
     "base_uri": "https://localhost:8080/"
    },
    "id": "GoKPDAEwO3Km",
    "outputId": "3df7ffb9-9988-44f6-be38-408fcc9e1092"
   },
   "outputs": [
    {
     "data": {
      "text/plain": [
       "array([')', '0', '0.001', '0.002', '0.0028', '0.003', '0.004', '0.005',\n",
       "       '0.0052', '0.0055', '0.006', '0.0061', '0.0066', '0.0074', '0.008',\n",
       "       '0.009', '0.0093', '0.01', '0.0106', '0.011', '0.0114', '0.0116',\n",
       "       '0.012', '0.014', '0.0148', '0.0152', '0.016', '0.017', '0.018',\n",
       "       '0.02', '0.0205', '0.0206', '0.0214', '0.022', '0.023', '0.024',\n",
       "       '0.025', '0.026', '0.0266', '0.0268', '0.027', '0.0272', '0.028',\n",
       "       '0.029', '0.0294', '0.03', '0.0302', '0.031', '0.032', '0.034',\n",
       "       '0.035', '0.036', '0.038', '0.0398', '0.04', '0.041', '0.042',\n",
       "       '0.043', '0.044', '0.0442', '0.0448', '0.045', '0.046', '0.048',\n",
       "       '0.0497', '0.0498', '0.05', '0.0502', '0.051', '0.052', '0.054',\n",
       "       '0.0545', '0.055', '0.056', '0.0564', '0.057', '0.0576', '0.058',\n",
       "       '0.06', '0.061', '0.062', '0.063', '0.064', '0.065', '0.066',\n",
       "       '0.068', '0.069', '0.07', '0.072', '0.074', '0.075', '0.076',\n",
       "       '0.078', '0.0796', '0.08', '0.081', '0.0816', '0.082', '0.0822',\n",
       "       '0.084', '0.085', '0.086', '0.0865', '0.0871', '0.088', '0.09',\n",
       "       '0.092', '0.0922', '0.093', '0.094', '0.095', '0.096', '0.098',\n",
       "       '0.1', '0.102', '0.103', '0.104', '0.105', '0.106', '0.108',\n",
       "       '0.11', '0.112', '0.113', '0.114', '0.116', '0.117', '0.118',\n",
       "       '0.119', '0.12', '0.122', '0.124', '0.125', '0.126', '0.128',\n",
       "       '0.13', '0.132', '0.133', '0.135', '0.136', '0.138', '0.14',\n",
       "       '0.142', '0.144', '0.145', '0.146', '0.147', '0.148', '0.15',\n",
       "       '0.151', '0.152', '0.154', '0.156', '0.157', '0.158', '0.16',\n",
       "       '0.162', '0.164', '0.165', '0.166', '0.168', '0.17', '0.171',\n",
       "       '0.173', '0.174', '0.176', '0.178', '0.179', '0.18', '0.181',\n",
       "       '0.182', '0.183', '0.184', '0.185', '0.186', '0.188', '0.19',\n",
       "       '0.192', '0.194', '0.195', '0.196', '0.198', '0.2', '0.201',\n",
       "       '0.202', '0.203', '0.204', '0.205', '0.206', '0.208', '0.21',\n",
       "       '0.212', '0.213', '0.214', '0.216', '0.217', '0.218', '0.219',\n",
       "       '0.22', '0.222', '0.223', '0.224', '0.225', '0.226', '0.227',\n",
       "       '0.228', '0.229', '0.23', '0.231', '0.232', '0.234', '0.235',\n",
       "       '0.236', '0.238', '0.24', '0.241', '0.244', '0.246', '0.25',\n",
       "       '0.252', '0.254', '0.256', '0.257', '0.258', '0.26', '0.262',\n",
       "       '0.264', '0.265', '0.266', '0.267', '0.268', '0.27', '0.272',\n",
       "       '0.276', '0.278', '0.279', '0.28', '0.282', '0.284', '0.285',\n",
       "       '0.286', '0.287', '0.288', '0.29', '0.292', '0.294', '0.296',\n",
       "       '0.3', '0.304', '0.306', '0.307', '0.31', '0.311', '0.312',\n",
       "       '0.314', '0.318', '0.32', '0.324', '0.328', '0.33', '0.332',\n",
       "       '0.334', '0.34', '0.342', '0.344', '0.346', '0.35', '0.352',\n",
       "       '0.355', '0.356', '0.358', '0.36', '0.362', '0.364', '0.366',\n",
       "       '0.368', '0.37', '0.375', '0.376', '0.38', '0.386', '0.389',\n",
       "       '0.39', '0.391', '0.392', '0.394', '0.395', '0.396', '0.397',\n",
       "       '0.398', '0.4', '0.403', '0.404', '0.405', '0.408', '0.41',\n",
       "       '0.412', '0.413', '0.416', '0.418', '0.42', '0.424', '0.426',\n",
       "       '0.428', '0.43', '0.432', '0.434', '0.435', '0.436', '0.438',\n",
       "       '0.44', '0.442', '0.446', '0.45', '0.452', '0.454', '0.455',\n",
       "       '0.456', '0.458', '0.459', '0.46', '0.462', '0.463', '0.464',\n",
       "       '0.466', '0.468', '0.47', '0.471', '0.472', '0.474', '0.476',\n",
       "       '0.478', '0.48', '0.481', '0.486', '0.488', '0.49', '0.494',\n",
       "       '0.496', '0.498', '0.5', '0.501', '0.502', '0.504', '0.506',\n",
       "       '0.508', '0.51', '0.512', '0.513', '0.514', '0.516', '0.518',\n",
       "       '0.52', '0.524', '0.525', '0.526', '0.528', '0.53', '0.534',\n",
       "       '0.535', '0.536', '0.537', '0.538', '0.54', '0.542', '0.546',\n",
       "       '0.548', '0.55', '0.552', '0.553', '0.554', '0.556', '0.558',\n",
       "       '0.56', '0.561', '0.568', '0.569', '0.57', '0.573', '0.574',\n",
       "       '0.575', '0.58', '0.584', '0.594', '0.6', '0.602', '0.604', '0.61',\n",
       "       '0.612', '0.614', '0.62', '0.622', '0.623', '0.624', '0.63',\n",
       "       '0.632', '0.634', '0.636', '0.638', '0.64', '0.644', '0.646',\n",
       "       '0.653', '0.654', '0.658', '0.66', '0.662', '0.664', '0.666',\n",
       "       '0.668', '0.67', '0.672', '0.69', '0.692', '0.694', '0.696', '0.7',\n",
       "       '0.706', '0.72', '0.722', '0.727', '0.728', '0.73', '0.734',\n",
       "       '0.74', '0.742', '0.75', '0.756', '0.76', '0.762', '0.766', '0.77',\n",
       "       '0.78', '0.782', '0.79', '0.792', '0.798', '0.8', '0.805', '0.81',\n",
       "       '0.816', '0.834', '0.848', '0.85', '0.9', '0.926', '0.934',\n",
       "       '0.944', '0.95', '0.954', '0.96', '0.966', '0.978', '0.99',\n",
       "       '0.997', '1', '1.001', '1.0016', '1.0018', '1.002', '1.0024',\n",
       "       '1.0028', '1.003', '1.004', '1.005', '1.007', '1.0076', '1.0078',\n",
       "       '1.008', '1.0084', '1.0088', '1.009', '1.0092', '1.01', '1.0102',\n",
       "       '1.0103', '1.0104', '1.012', '1.0136', '1.0156', '1.0165',\n",
       "       '1.0168', '1.0178', '1.0184', '1.019', '1.02', '1.025', '1.026',\n",
       "       '1.028', '1.03', '1.0336', '1.0344', '1.0352', '1.036', '1.0368',\n",
       "       '1.04', '1.046', '1.05', '1.052', '1.06', '1.0664', '1.074',\n",
       "       '1.076', '1.078', '1.08', '1.084', '1.086', '1.088', '1.089',\n",
       "       '1.09', '1.092', '1.096', '1.098', '1.1', '1.102', '1.104', '1.11',\n",
       "       '1.112', '1.114', '1.122', '1.178', '1.184', '1.2', '1.22', '1.25',\n",
       "       '1.26', '1.29', '1.3', '1.328', '1.354', '1.36', '1.362', '1.37',\n",
       "       '1.374', '1.4', '1.48', '1.5', '1.506', '1.7', '1.792', '1.9',\n",
       "       '1.902', '10', '10.012', '10.07', '2.003', '2.004', '2.007',\n",
       "       '2.01', '2.012', '2.0212', '2.03', '2.04', '2.05', '2.088',\n",
       "       '2.0968', '2.1', '2.112', '2.194', '2.198', '2.2', '2.25', '2.316',\n",
       "       '2.4', '2.5', '2.81', '2.914', '3.044', '3.05', '4.0781', '4.6176',\n",
       "       '4.706', '4.728', '4.764', '4.954', '5.001', '5.0014', '5.0029',\n",
       "       '5.008', '5.009', '5.013', '5.0182', '5.023', '5.031', '5.05',\n",
       "       '5.074', '7.045', '7.0486', '?', '@', 'aa', 'gg'], dtype=object)"
      ]
     },
     "execution_count": 7,
     "metadata": {},
     "output_type": "execute_result"
    }
   ],
   "source": [
    "unique_weight = data[\"Weight (kg)\"].unique()\n",
    "np.sort(unique_weight)"
   ]
  },
  {
   "cell_type": "markdown",
   "metadata": {
    "id": "8mbFFAHXyAjp"
   },
   "source": [
    "Unwanted inputs: ')', '?', '@', 'aa', 'gg'"
   ]
  },
  {
   "cell_type": "code",
   "execution_count": 8,
   "metadata": {
    "colab": {
     "base_uri": "https://localhost:8080/"
    },
    "id": "9j74sRxsRqk_",
    "outputId": "81da5ac4-3c16-4fc1-bcba-17030d242637"
   },
   "outputs": [
    {
     "data": {
      "text/plain": [
       "array(['&', '*', '0', '0.001', '0.01', '0.0135', '0.015', '0.017', '0.02',\n",
       "       '0.0215', '0.022', '0.025', '0.0254', '0.03', '0.0315', '0.035',\n",
       "       '0.0381', '0.039', '0.04', '0.043', '0.0445', '0.045', '0.046',\n",
       "       '0.048', '0.05', '0.0508', '0.055', '0.059', '0.06', '0.0635',\n",
       "       '0.065', '0.068', '0.07', '0.072', '0.075', '0.0762', '0.08',\n",
       "       '0.0838', '0.085', '0.086', '0.088', '0.0889', '0.09', '0.093',\n",
       "       '0.095', '0.1', '0.1016', '0.102', '0.104', '0.105', '0.108',\n",
       "       '0.11', '0.1105', '0.112', '0.114', '0.1143', '0.115', '0.12',\n",
       "       '0.125', '0.13', '0.132', '0.133', '0.135', '0.1397', '0.14',\n",
       "       '0.142', '0.1425', '0.143', '0.145', '0.148', '0.15', '0.152',\n",
       "       '0.1524', '0.155', '0.16', '0.165', '0.1651', '0.1676', '0.168',\n",
       "       '0.17', '0.172', '0.173', '0.175', '0.1778', '0.18', '0.1803',\n",
       "       '0.1829', '0.1842', '0.185', '0.19', '0.1905', '0.195', '0.1981',\n",
       "       '0.2', '0.2032', '0.205', '0.207', '0.21', '0.2105', '0.212',\n",
       "       '0.213', '0.215', '0.2159', '0.22', '0.225', '0.2286', '0.23',\n",
       "       '0.2349', '0.235', '0.24', '0.2413', '0.243', '0.244', '0.245',\n",
       "       '0.25', '0.254', '0.255', '0.2591', '0.26', '0.265', '0.27',\n",
       "       '0.273', '0.275', '0.2794', '0.28', '0.285', '0.2858', '0.29',\n",
       "       '0.2921', '0.295', '0.3', '0.3048', '0.31', '0.3175', '0.32',\n",
       "       '0.327', '0.33', '0.335', '0.34', '0.35', '0.3556', '0.36',\n",
       "       '0.3683', '0.37', '0.38', '0.381', '0.385', '0.39', '0.41', '0.44',\n",
       "       '0.45', '0.48', '0.5', '0.53', '0.55', '0.6', '0.7', '0.95', '1',\n",
       "       '11.05', 'ss', '|'], dtype=object)"
      ]
     },
     "execution_count": 8,
     "metadata": {},
     "output_type": "execute_result"
    }
   ],
   "source": [
    "unique_height = data[\"Height (m)\"].unique()\n",
    "np.sort(unique_height)"
   ]
  },
  {
   "cell_type": "markdown",
   "metadata": {
    "id": "aKFh38odyepe"
   },
   "source": [
    "Unwanted inputs: '&', '*', 'ss', '|'"
   ]
  },
  {
   "cell_type": "code",
   "execution_count": 9,
   "metadata": {
    "colab": {
     "base_uri": "https://localhost:8080/"
    },
    "id": "EmxL52xHoB3P",
    "outputId": "9dbd056d-9aea-49a2-8db7-e446a14e773b"
   },
   "outputs": [
    {
     "data": {
      "text/plain": [
       "array(['(', '.', '0', '0.002', '0.01', '0.012', '0.015', '0.0175', '0.02',\n",
       "       '0.022', '0.025', '0.028', '0.03', '0.033', '0.035', '0.0385',\n",
       "       '0.04', '0.045', '0.048', '0.05', '0.0508', '0.052', '0.053',\n",
       "       '0.0536', '0.055', '0.06', '0.062', '0.0635', '0.065', '0.066',\n",
       "       '0.0698', '0.07', '0.071', '0.075', '0.0762', '0.08', '0.081',\n",
       "       '0.082', '0.084', '0.085', '0.088', '0.0889', '0.09', '0.0914',\n",
       "       '0.092', '0.094', '0.095', '0.097', '0.098', '0.1', '0.1016',\n",
       "       '0.102', '0.103', '0.105', '0.1092', '0.11', '0.114', '0.1143',\n",
       "       '0.115', '0.12', '0.123', '0.125', '0.127', '0.1295', '0.13',\n",
       "       '0.135', '0.1397', '0.14', '0.143', '0.145', '0.1461', '0.15',\n",
       "       '0.1524', '0.155', '0.16', '0.165', '0.1651', '0.17', '0.175',\n",
       "       '0.1778', '0.18', '0.182', '0.185', '0.19', '0.1905', '0.195',\n",
       "       '0.2', '0.202', '0.2032', '0.205', '0.21', '0.213', '0.215',\n",
       "       '0.217', '0.22', '0.221', '0.225', '0.2286', '0.23', '0.235',\n",
       "       '0.24', '0.2413', '0.245', '0.248', '0.25', '0.254', '0.255',\n",
       "       '0.26', '0.265', '0.27', '0.275', '0.2794', '0.28', '0.285',\n",
       "       '0.29', '0.3', '0.3048', '0.305', '0.31', '0.32', '0.33', '0.34',\n",
       "       '0.35', '0.3556', '0.36', '0.37', '0.375', '0.38', '0.381', '0.4',\n",
       "       '0.41', '0.42', '0.43', '0.44', '0.45', '0.47', '0.52', '195',\n",
       "       '24.05', '[', 'ee', 'gg'], dtype=object)"
      ]
     },
     "execution_count": 9,
     "metadata": {},
     "output_type": "execute_result"
    }
   ],
   "source": [
    "unique_length = data[\"Length (m)\"].unique()\n",
    "np.sort(unique_length)"
   ]
  },
  {
   "cell_type": "markdown",
   "metadata": {
    "id": "iRTgnfYm1l5N"
   },
   "source": [
    "Unwanted inputs: '(',',', '.', '[', 'ee', 'gg'\n",
    "\n"
   ]
  },
  {
   "cell_type": "code",
   "execution_count": 10,
   "metadata": {
    "colab": {
     "base_uri": "https://localhost:8080/"
    },
    "id": "gGgjKOWDoW6u",
    "outputId": "eb9be018-d207-48aa-f5ac-ae425cfab0f7"
   },
   "outputs": [
    {
     "data": {
      "text/plain": [
       "array(['!!', '%', '.', '0', '0.001', '0.005', '0.01', '0.012', '0.015',\n",
       "       '0.019', '0.02', '0.022', '0.025', '0.028', '0.03', '0.032',\n",
       "       '0.033', '0.035', '0.038', '0.0381', '0.0385', '0.04', '0.042',\n",
       "       '0.045', '0.048', '0.05', '0.0508', '0.052', '0.053', '0.0536',\n",
       "       '0.055', '0.06', '0.062', '0.0635', '0.065', '0.066', '0.0698',\n",
       "       '0.07', '0.072', '0.075', '0.0762', '0.08', '0.081', '0.082',\n",
       "       '0.085', '0.0864', '0.088', '0.0889', '0.09', '0.0914', '0.092',\n",
       "       '0.095', '0.0965', '0.098', '0.1', '0.1016', '0.105', '0.11',\n",
       "       '0.114', '0.115', '0.12', '0.125', '0.127', '0.1295', '0.13',\n",
       "       '0.135', '0.14', '0.145', '0.15', '0.1524', '0.155', '0.16',\n",
       "       '0.165', '0.1651', '0.17', '0.175', '0.1778', '0.18', '0.185',\n",
       "       '0.19', '0.1905', '0.195', '0.2', '0.2032', '0.21', '0.22',\n",
       "       '0.2286', '0.23', '0.24', '0.2413', '0.25', '0.254', '0.26',\n",
       "       '0.27', '0.28', '0.29', '0.3', '0.3048', '0.31', '0.33', '0.3302',\n",
       "       '0.34', '0.345', '0.38', '0.381', '0.385', '0.39', '0.4064',\n",
       "       '0.42', '0.45', '0.508', '0.55', '12', '^', 'dd', 'jj', '“'],\n",
       "      dtype=object)"
      ]
     },
     "execution_count": 10,
     "metadata": {},
     "output_type": "execute_result"
    }
   ],
   "source": [
    "unique_width = data[\"Width (m)\"].unique()\n",
    "np.sort(unique_width)"
   ]
  },
  {
   "cell_type": "markdown",
   "metadata": {
    "id": "A8j1mIF911gK"
   },
   "source": [
    "Unwanted inputs: '!!', '%', '.', '^', 'dd', 'jj', '“'"
   ]
  },
  {
   "cell_type": "markdown",
   "metadata": {
    "id": "ElN3Uo8MA8xK"
   },
   "source": [
    "Now we read the data again but this time we consider the wrong string inputs as null values. Then we replace them like we did before"
   ]
  },
  {
   "cell_type": "code",
   "execution_count": 11,
   "metadata": {
    "colab": {
     "base_uri": "https://localhost:8080/"
    },
    "id": "g3zaSIZ4od2O",
    "outputId": "cb406c3f-a397-49f2-a373-5c6aeba19333"
   },
   "outputs": [
    {
     "name": "stdout",
     "output_type": "stream",
     "text": [
      "<class 'pandas.core.frame.DataFrame'>\n",
      "RangeIndex: 3058 entries, 0 to 3057\n",
      "Data columns (total 5 columns):\n",
      " #   Column       Non-Null Count  Dtype  \n",
      "---  ------       --------------  -----  \n",
      " 0   Product Id   3058 non-null   int64  \n",
      " 1   Weight (kg)  3058 non-null   float64\n",
      " 2   Length (m)   3058 non-null   float64\n",
      " 3   Width (m)    3058 non-null   float64\n",
      " 4   Height (m)   3058 non-null   float64\n",
      "dtypes: float64(4), int64(1)\n",
      "memory usage: 119.6 KB\n"
     ]
    }
   ],
   "source": [
    "data = pd.read_csv('Products.csv', na_values = [')', '?', '@', 'aa', 'gg', '&', '*', 'ss', '|',',', '.', '[', 'ee', '(', '!!', '%', '^', 'dd', 'jj', '“'])\n",
    "data = data.fillna(method ='bfill')\n",
    "data.info()"
   ]
  },
  {
   "cell_type": "markdown",
   "metadata": {
    "id": "Mn_rnN3a_k74"
   },
   "source": [
    "As we can see there no more null values left and data types are of one type which indicates there are no unwanted string values in any columns."
   ]
  },
  {
   "cell_type": "markdown",
   "metadata": {
    "id": "9GhYWBFtBjnN"
   },
   "source": [
    "Finally, For finiding any possible wrong numeric inputs, first, lets check the description of the dataset."
   ]
  },
  {
   "cell_type": "code",
   "execution_count": 12,
   "metadata": {
    "colab": {
     "base_uri": "https://localhost:8080/",
     "height": 284
    },
    "id": "oigb8ad3opc7",
    "outputId": "e4882de4-5202-4a16-fe6b-ede9f806f8c6"
   },
   "outputs": [
    {
     "data": {
      "text/html": [
       "<div>\n",
       "<style scoped>\n",
       "    .dataframe tbody tr th:only-of-type {\n",
       "        vertical-align: middle;\n",
       "    }\n",
       "\n",
       "    .dataframe tbody tr th {\n",
       "        vertical-align: top;\n",
       "    }\n",
       "\n",
       "    .dataframe thead th {\n",
       "        text-align: right;\n",
       "    }\n",
       "</style>\n",
       "<table border=\"1\" class=\"dataframe\">\n",
       "  <thead>\n",
       "    <tr style=\"text-align: right;\">\n",
       "      <th></th>\n",
       "      <th>Product Id</th>\n",
       "      <th>Weight (kg)</th>\n",
       "      <th>Length (m)</th>\n",
       "      <th>Width (m)</th>\n",
       "      <th>Height (m)</th>\n",
       "    </tr>\n",
       "  </thead>\n",
       "  <tbody>\n",
       "    <tr>\n",
       "      <th>count</th>\n",
       "      <td>3058.000000</td>\n",
       "      <td>3058.000000</td>\n",
       "      <td>3058.000000</td>\n",
       "      <td>3058.000000</td>\n",
       "      <td>3058.000000</td>\n",
       "    </tr>\n",
       "    <tr>\n",
       "      <th>mean</th>\n",
       "      <td>80284.284173</td>\n",
       "      <td>0.237821</td>\n",
       "      <td>0.135689</td>\n",
       "      <td>0.049208</td>\n",
       "      <td>0.067476</td>\n",
       "    </tr>\n",
       "    <tr>\n",
       "      <th>std</th>\n",
       "      <td>24714.197188</td>\n",
       "      <td>0.638787</td>\n",
       "      <td>3.552538</td>\n",
       "      <td>0.225024</td>\n",
       "      <td>0.219503</td>\n",
       "    </tr>\n",
       "    <tr>\n",
       "      <th>min</th>\n",
       "      <td>44331.000000</td>\n",
       "      <td>0.000000</td>\n",
       "      <td>0.000000</td>\n",
       "      <td>0.000000</td>\n",
       "      <td>0.000000</td>\n",
       "    </tr>\n",
       "    <tr>\n",
       "      <th>25%</th>\n",
       "      <td>60380.250000</td>\n",
       "      <td>0.000000</td>\n",
       "      <td>0.000000</td>\n",
       "      <td>0.000000</td>\n",
       "      <td>0.000000</td>\n",
       "    </tr>\n",
       "    <tr>\n",
       "      <th>50%</th>\n",
       "      <td>76429.500000</td>\n",
       "      <td>0.006000</td>\n",
       "      <td>0.010000</td>\n",
       "      <td>0.005000</td>\n",
       "      <td>0.010000</td>\n",
       "    </tr>\n",
       "    <tr>\n",
       "      <th>75%</th>\n",
       "      <td>92478.750000</td>\n",
       "      <td>0.256000</td>\n",
       "      <td>0.105000</td>\n",
       "      <td>0.075000</td>\n",
       "      <td>0.115000</td>\n",
       "    </tr>\n",
       "    <tr>\n",
       "      <th>max</th>\n",
       "      <td>129318.000000</td>\n",
       "      <td>10.070000</td>\n",
       "      <td>195.000000</td>\n",
       "      <td>12.000000</td>\n",
       "      <td>11.050000</td>\n",
       "    </tr>\n",
       "  </tbody>\n",
       "</table>\n",
       "</div>"
      ],
      "text/plain": [
       "          Product Id  Weight (kg)   Length (m)    Width (m)   Height (m)\n",
       "count    3058.000000  3058.000000  3058.000000  3058.000000  3058.000000\n",
       "mean    80284.284173     0.237821     0.135689     0.049208     0.067476\n",
       "std     24714.197188     0.638787     3.552538     0.225024     0.219503\n",
       "min     44331.000000     0.000000     0.000000     0.000000     0.000000\n",
       "25%     60380.250000     0.000000     0.000000     0.000000     0.000000\n",
       "50%     76429.500000     0.006000     0.010000     0.005000     0.010000\n",
       "75%     92478.750000     0.256000     0.105000     0.075000     0.115000\n",
       "max    129318.000000    10.070000   195.000000    12.000000    11.050000"
      ]
     },
     "execution_count": 12,
     "metadata": {},
     "output_type": "execute_result"
    }
   ],
   "source": [
    "data.describe()"
   ]
  },
  {
   "cell_type": "markdown",
   "metadata": {
    "id": "0pDmPFM2B0pO"
   },
   "source": [
    "We can see the minimum values for weight, length, width and height are all 0, which is not physically possible. so the inputs with 0 values should be concidered wrong. We need to treat them as null values as well."
   ]
  },
  {
   "cell_type": "code",
   "execution_count": 13,
   "metadata": {
    "colab": {
     "base_uri": "https://localhost:8080/",
     "height": 284
    },
    "id": "Gio2f5JVCIGu",
    "outputId": "44885e4a-d1d1-46e5-a1c2-ef7b189c1b8b"
   },
   "outputs": [
    {
     "data": {
      "text/html": [
       "<div>\n",
       "<style scoped>\n",
       "    .dataframe tbody tr th:only-of-type {\n",
       "        vertical-align: middle;\n",
       "    }\n",
       "\n",
       "    .dataframe tbody tr th {\n",
       "        vertical-align: top;\n",
       "    }\n",
       "\n",
       "    .dataframe thead th {\n",
       "        text-align: right;\n",
       "    }\n",
       "</style>\n",
       "<table border=\"1\" class=\"dataframe\">\n",
       "  <thead>\n",
       "    <tr style=\"text-align: right;\">\n",
       "      <th></th>\n",
       "      <th>Product Id</th>\n",
       "      <th>Weight (kg)</th>\n",
       "      <th>Length (m)</th>\n",
       "      <th>Width (m)</th>\n",
       "      <th>Height (m)</th>\n",
       "    </tr>\n",
       "  </thead>\n",
       "  <tbody>\n",
       "    <tr>\n",
       "      <th>count</th>\n",
       "      <td>3058.000000</td>\n",
       "      <td>3058.000000</td>\n",
       "      <td>3058.000000</td>\n",
       "      <td>3058.000000</td>\n",
       "      <td>3058.000000</td>\n",
       "    </tr>\n",
       "    <tr>\n",
       "      <th>mean</th>\n",
       "      <td>80344.276324</td>\n",
       "      <td>0.474649</td>\n",
       "      <td>0.204605</td>\n",
       "      <td>0.098698</td>\n",
       "      <td>0.133567</td>\n",
       "    </tr>\n",
       "    <tr>\n",
       "      <th>std</th>\n",
       "      <td>24747.197983</td>\n",
       "      <td>0.808709</td>\n",
       "      <td>3.551057</td>\n",
       "      <td>0.224032</td>\n",
       "      <td>0.220360</td>\n",
       "    </tr>\n",
       "    <tr>\n",
       "      <th>min</th>\n",
       "      <td>44331.000000</td>\n",
       "      <td>0.001000</td>\n",
       "      <td>0.002000</td>\n",
       "      <td>0.001000</td>\n",
       "      <td>0.001000</td>\n",
       "    </tr>\n",
       "    <tr>\n",
       "      <th>25%</th>\n",
       "      <td>60396.000000</td>\n",
       "      <td>0.114000</td>\n",
       "      <td>0.070000</td>\n",
       "      <td>0.050800</td>\n",
       "      <td>0.050000</td>\n",
       "    </tr>\n",
       "    <tr>\n",
       "      <th>50%</th>\n",
       "      <td>76429.500000</td>\n",
       "      <td>0.261000</td>\n",
       "      <td>0.110000</td>\n",
       "      <td>0.080000</td>\n",
       "      <td>0.110000</td>\n",
       "    </tr>\n",
       "    <tr>\n",
       "      <th>75%</th>\n",
       "      <td>92484.000000</td>\n",
       "      <td>0.520000</td>\n",
       "      <td>0.180000</td>\n",
       "      <td>0.120000</td>\n",
       "      <td>0.190000</td>\n",
       "    </tr>\n",
       "    <tr>\n",
       "      <th>max</th>\n",
       "      <td>129318.000000</td>\n",
       "      <td>10.070000</td>\n",
       "      <td>195.000000</td>\n",
       "      <td>12.000000</td>\n",
       "      <td>11.050000</td>\n",
       "    </tr>\n",
       "  </tbody>\n",
       "</table>\n",
       "</div>"
      ],
      "text/plain": [
       "          Product Id  Weight (kg)   Length (m)    Width (m)   Height (m)\n",
       "count    3058.000000  3058.000000  3058.000000  3058.000000  3058.000000\n",
       "mean    80344.276324     0.474649     0.204605     0.098698     0.133567\n",
       "std     24747.197983     0.808709     3.551057     0.224032     0.220360\n",
       "min     44331.000000     0.001000     0.002000     0.001000     0.001000\n",
       "25%     60396.000000     0.114000     0.070000     0.050800     0.050000\n",
       "50%     76429.500000     0.261000     0.110000     0.080000     0.110000\n",
       "75%     92484.000000     0.520000     0.180000     0.120000     0.190000\n",
       "max    129318.000000    10.070000   195.000000    12.000000    11.050000"
      ]
     },
     "execution_count": 13,
     "metadata": {},
     "output_type": "execute_result"
    }
   ],
   "source": [
    "data[data[\"Weight (kg)\"] == 0] = np.nan\n",
    "data[data[\"Length (m)\"] == 0] = np.nan\n",
    "data[data[\"Width (m)\"] == 0] = np.nan\n",
    "data[data[\"Height (m)\"] == 0] = np.nan\n",
    "data = data.fillna(method ='bfill')\n",
    "data.describe()"
   ]
  },
  {
   "cell_type": "markdown",
   "metadata": {
    "id": "3TfHSTVcDgUZ"
   },
   "source": [
    "As we can see there are no longer any 0 values in the dataset. So, the dataframe is now without any null, wrong string and wrong numeric values."
   ]
  }
 ],
 "metadata": {
  "colab": {
   "name": "Copy of sadnan.ipynb",
   "provenance": []
  },
  "kernelspec": {
   "display_name": "Python 3",
   "language": "python",
   "name": "python3"
  },
  "language_info": {
   "codemirror_mode": {
    "name": "ipython",
    "version": 3
   },
   "file_extension": ".py",
   "mimetype": "text/x-python",
   "name": "python",
   "nbconvert_exporter": "python",
   "pygments_lexer": "ipython3",
   "version": "3.8.5"
  }
 },
 "nbformat": 4,
 "nbformat_minor": 1
}
